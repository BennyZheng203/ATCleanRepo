{
 "cells": [
  {
   "cell_type": "markdown",
   "metadata": {},
   "source": [
    "### Step 1: Run preliminary imports, set directories, etc."
   ]
  },
  {
   "cell_type": "code",
   "execution_count": 1,
   "metadata": {},
   "outputs": [],
   "source": [
    "import numpy as np\n",
    "import pandas as pd\n",
    "import sys, copy, requests, time, json\n",
    "from pdastro import pdastrostatsclass, AandB, AnotB, AorB, not_AandB\n",
    "\n",
    "# for interactive sliders, etc.\n",
    "from ipywidgets import interact, interactive, fixed, interact_manual\n",
    "\n",
    "# for getting discovery date from TNS\n",
    "from lxml import html\n",
    "from collections import OrderedDict\n",
    "from astropy.time import Time\n",
    "\n",
    "# plotting\n",
    "import matplotlib.pyplot as plt\n",
    "import pylab as matlib\n",
    "import warnings\n",
    "warnings.simplefilter('error', RuntimeWarning)\n",
    "warnings.filterwarnings(\"ignore\")\n",
    "plt.rcParams['figure.figsize'] = [12, 7]\n",
    "plt.rcParams['font.family'] = 'serif'\n",
    "plt.rcParams['font.serif'] = 'Times'\n",
    "\n",
    "#https://towardsdatascience.com/5-powerful-tricks-to-visualize-your-data-with-matplotlib-16bc33747e05\n",
    "\n",
    "def dataPlot(x, y, dx=None, dy=None, sp=None, label=None, fmt='bo', ecolor='k', elinewidth=None, barsabove = False, capsize=1, logx=False, logy=False):\n",
    "    if sp == None:\n",
    "        sp = matlib.subplot(111)\n",
    "    if dx is None and dy is None:\n",
    "        if logy:\n",
    "            if logx:\n",
    "                plot, = sp.loglog(x, y, fmt)\n",
    "            else:\n",
    "                plot, = sp.semilogy(x, y, fmt)\n",
    "        elif logx:\n",
    "            plot, = sp.semilogx(x, y, fmt)\n",
    "        else:\n",
    "            if barsabove:\n",
    "                plot, dplot,dummy = sp.errorbar(x, y, label=label, fmt=fmt, capsize=capsize, barsabove=barsabove)\n",
    "            else:\n",
    "                plot, = sp.plot(x, y, fmt)\n",
    "        return sp, plot, None\n",
    "    else:\n",
    "        if logy:\n",
    "            sp.set_yscale(\"log\", nonposx='clip')\n",
    "        if logx:\n",
    "            sp.set_xscale(\"log\", nonposx='clip')\n",
    "        plot, dplot, dummy = sp.errorbar(x, y, xerr=dx, yerr=dy, label=label, fmt=fmt, ecolor=ecolor, elinewidth=elinewidth, capsize=capsize, barsabove=barsabove)\n",
    "        return sp, plot, dplot\n",
    "\n",
    "lc_info = pdastrostatsclass()"
   ]
  },
  {
   "cell_type": "code",
   "execution_count": 2,
   "metadata": {},
   "outputs": [],
   "source": [
    "# Enter your data directory (where the SN light curves are located) here:\n",
    "global dir\n",
    "dir = '/Users/sofiarest/OneDrive - Johns Hopkins/Freshman Year/researchpaper/atlaslc_chisquare/brightsne/'"
   ]
  },
  {
   "cell_type": "markdown",
   "metadata": {},
   "source": [
    "Information about template changes at MJDs 58417 and 58882: https://fallingstar-data.com/forcedphot/faq/"
   ]
  },
  {
   "cell_type": "markdown",
   "metadata": {},
   "source": [
    "### Step 2: Load in light curves\n",
    "Enter the TNS name for each SN you wish to load in and examine/cut in the cell below."
   ]
  },
  {
   "cell_type": "code",
   "execution_count": 3,
   "metadata": {},
   "outputs": [],
   "source": [
    "# Enter each SN's TNS name here:\n",
    "lc_info.t['tnsname'] = ['2020lse','2019vxm','2020jfo','2018pv','2017guh','2018oh']\n",
    "# Optionally, enter each SN's discovery date (start of SN) here:\n",
    "lc_info.t['mjdstart'] = [59005.264,58818.04,58975.20256,58152.631331,58014.31,58153.49]"
   ]
  },
  {
   "cell_type": "code",
   "execution_count": 4,
   "metadata": {},
   "outputs": [
    {
     "name": "stdout",
     "output_type": "stream",
     "text": [
      "Obtaining discovery date information from TNS if needed...\n",
      "   tnsname      mjdstart classification    lc\n",
      "0  2020lse  59005.264000           good  None\n",
      "1  2019vxm  58818.040000            bad  None\n",
      "2  2020jfo  58975.202560           None  None\n",
      "3   2018pv  58152.631331           None  None\n",
      "4  2017guh  58014.310000           None  None\n",
      "5   2018oh  58153.490000           None  None\n",
      "\n",
      "Loading in light curves...\n",
      "Loading SN 2020lse at /Users/sofiarest/OneDrive - Johns Hopkins/Freshman Year/researchpaper/atlaslc_chisquare/brightsne/2020lse/2020lse_i000.o.lc.txt\n",
      "Loading SN 2019vxm at /Users/sofiarest/OneDrive - Johns Hopkins/Freshman Year/researchpaper/atlaslc_chisquare/brightsne/2019vxm/2019vxm_i000.o.lc.txt\n",
      "Loading SN 2020jfo at /Users/sofiarest/OneDrive - Johns Hopkins/Freshman Year/researchpaper/atlaslc_chisquare/brightsne/2020jfo/2020jfo_i000.o.lc.txt\n",
      "Loading SN 2018pv at /Users/sofiarest/OneDrive - Johns Hopkins/Freshman Year/researchpaper/atlaslc_chisquare/brightsne/2018pv/2018pv_i000.o.lc.txt\n",
      "Loading SN 2017guh at /Users/sofiarest/OneDrive - Johns Hopkins/Freshman Year/researchpaper/atlaslc_chisquare/brightsne/2017guh/2017guh_i000.o.lc.txt\n",
      "Loading SN 2018oh at /Users/sofiarest/OneDrive - Johns Hopkins/Freshman Year/researchpaper/atlaslc_chisquare/brightsne/2018oh/2018oh_i000.o.lc.txt\n"
     ]
    }
   ],
   "source": [
    "lc_info.t['classification'] = ['good','bad',None,None,None,None]\n",
    "lc_info.t['lc'] = [None] * len(lc_info.t)\n",
    "\n",
    "# get the discovery date for each SN\n",
    "print('Obtaining discovery date information from TNS if needed...')\n",
    "def get_tns_data(tnsname):\n",
    "\ttry:\n",
    "\t\tget_obj = [(\"objname\",tnsname), (\"objid\",\"\"), (\"photometry\",\"1\"), (\"spectra\",\"1\")]\n",
    "\t\tget_url = 'https://www.wis-tns.org/api/get/object'\n",
    "\t\tjson_file = OrderedDict(get_obj)\n",
    "\t\tget_data = {'api_key':'2eca323a16b17d78fbc99cd6f1f801699a81a91c','data':json.dumps(json_file)}\n",
    "\t\tresponse = requests.post(get_url, data=get_data, headers={'User-Agent':'tns_marker{\"tns_id\":104739,\"type\": \"bot\", \"name\":\"Name and Redshift Retriever\"}'})\n",
    "\t\tjson_data = json.loads(response.text,object_pairs_hook=OrderedDict)\n",
    "\t\treturn json_data\n",
    "\texcept Exception as e:\n",
    "\t\treturn 'Error message : \\n'+str(e)\n",
    "def get_disc_date(tnsname):\n",
    "\tjson_data = get_tns_data(tnsname)\n",
    "\tdiscoverydate = json_data['data']['reply']['discoverydate']\n",
    "\tdate = list(discoverydate.partition(' '))[0]\n",
    "\ttime = list(discoverydate.partition(' '))[2]\n",
    "\tdisc_date_format = date+\"T\"+time\n",
    "\tdateobjects = Time(disc_date_format, format='isot', scale='utc')\n",
    "\tdisc_date = dateobjects.mjd\n",
    "\t#print(tnsname+\" discovery date (MJD): %.4f\" % disc_date)\n",
    "\treturn disc_date\n",
    "def get_disc_date_loop(lc_info):\n",
    "\tfor index in range(0,len(lc_info.t)):\n",
    "\t\tif lc_info.t.loc[index,'mjdstart'] is None:\n",
    "\t\t\tdisc_date = get_disc_date(lc_info.t.loc[index,'tnsname'])\n",
    "\t\t\tlc_info.t.loc[index,'mjdstart'] = disc_date\n",
    "\treturn lc_info\n",
    "lc_info = get_disc_date_loop(lc_info)\n",
    "print(lc_info.t)\n",
    "\n",
    "# load in the lcs from files\n",
    "print('\\nLoading in light curves...')\n",
    "def load_lc_loop(lc_info):\n",
    "\tfor index in range(0,len(lc_info.t)):\n",
    "\t\tlc_info.t.loc[index,'lc'] = pdastrostatsclass()\n",
    "\t\tfilename = dir+lc_info.t.loc[index,'tnsname']+'/'+lc_info.t.loc[index,'tnsname']+'_i000.o.lc.txt'\n",
    "\t\ttry:\n",
    "\t\t\tlc_info.t.loc[index,'lc'].load_spacesep(filename,delim_whitespace=True)\n",
    "\t\texcept Exception as e:\n",
    "\t\t\tprint('Could not load light curve for SN %s at %s: %s' % (lc_info.t.loc[index,'tnsname'], filename, str(e)))\n",
    "\t\t\tsys.exit()\n",
    "\treturn lc_info\n",
    "lc_info = load_lc_loop(lc_info)"
   ]
  },
  {
   "cell_type": "code",
   "execution_count": null,
   "metadata": {},
   "outputs": [],
   "source": []
  },
  {
   "cell_type": "code",
   "execution_count": null,
   "metadata": {},
   "outputs": [],
   "source": []
  }
 ],
 "metadata": {
  "interpreter": {
   "hash": "aee8b7b246df8f9039afb4144a1f6fd8d2ca17a180786b69acc140d282b71a49"
  },
  "kernelspec": {
   "display_name": "Python 3.9.5 64-bit",
   "language": "python",
   "name": "python3"
  },
  "language_info": {
   "codemirror_mode": {
    "name": "ipython",
    "version": 3
   },
   "file_extension": ".py",
   "mimetype": "text/x-python",
   "name": "python",
   "nbconvert_exporter": "python",
   "pygments_lexer": "ipython3",
   "version": "3.9.5"
  },
  "orig_nbformat": 4
 },
 "nbformat": 4,
 "nbformat_minor": 2
}
