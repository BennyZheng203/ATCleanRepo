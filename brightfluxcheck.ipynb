{
 "cells": [
  {
   "cell_type": "code",
   "execution_count": 1,
   "metadata": {},
   "outputs": [],
   "source": [
    "import numpy as np\n",
    "import pandas as pd\n",
    "import sys\n",
    "import matplotlib.pyplot as plt\n",
    "import pylab as matlib\n",
    "from pdastro import pdastrostatsclass, AandB, AnotB, AorB, not_AandB"
   ]
  },
  {
   "cell_type": "code",
   "execution_count": 2,
   "metadata": {},
   "outputs": [],
   "source": [
    "lc_dict = {}\n",
    "\n",
    "lc_info = pdastrostatsclass()\n",
    "lc_info.t['tnsname'] = ['2020lse','2019vxm','2020jfo']\n",
    "lc_info.t['mjdstart'] = [59005,58818,58975]"
   ]
  },
  {
   "cell_type": "code",
   "execution_count": 10,
   "metadata": {},
   "outputs": [
    {
     "name": "stdout",
     "output_type": "stream",
     "text": [
      "Loading SN 2020lse at /Users/sofiarest/OneDrive - Johns Hopkins/Freshman Year/researchpaper/atlaslc_chisquare/brightsne/2020lse/2020lse_i000.o.lc.txt...\n",
      "Loading SN 2019vxm at /Users/sofiarest/OneDrive - Johns Hopkins/Freshman Year/researchpaper/atlaslc_chisquare/brightsne/2019vxm/2019vxm_i000.o.lc.txt...\n",
      "Loading SN 2020jfo at /Users/sofiarest/OneDrive - Johns Hopkins/Freshman Year/researchpaper/atlaslc_chisquare/brightsne/2020jfo/2020jfo_i000.o.lc.txt...\n"
     ]
    }
   ],
   "source": [
    "def load_lc_dicts(lc_dict, lc_info):\n",
    "    lc_info = lc_info.reset_index()\n",
    "    for index in range(0,len(lc_info)):\n",
    "        lc_dict[index] = pdastrostatsclass()\n",
    "        dir = '/Users/sofiarest/OneDrive - Johns Hopkins/Freshman Year/researchpaper/atlaslc_chisquare/'\n",
    "        filename = dir+'brightsne/'+lc_info.loc[index,'tnsname']+'/'+lc_info.loc[index,'tnsname']+'_i000.o.lc.txt'\n",
    "        print('Loading SN '+lc_info.loc[index,'tnsname']+' at '+filename+'...')\n",
    "        lc_dict[index].load_spacesep(filename,delim_whitespace=True)\n",
    "        lc_dict[index].t['uJy/duJy'] = lc_dict[index].t['uJy']/lc_dict[index].t['duJy']\n",
    "    return lc_dict\n",
    "\n",
    "lc = load_lc_dicts(lc_dict, lc_info.t)"
   ]
  },
  {
   "cell_type": "code",
   "execution_count": 4,
   "metadata": {},
   "outputs": [
    {
     "name": "stdout",
     "output_type": "stream",
     "text": [
      "For 2020lse, 90th percentile flux 3770.50 is over 1000 ✓\n",
      "For 2019vxm, 90th percentile flux 5829.20 is over 1000 ✓\n",
      "For 2020jfo, 90th percentile flux 5395.80 is over 1000 ✓\n"
     ]
    }
   ],
   "source": [
    "# Estimate rough brightness of each SN by getting 90th percentile flux from mjdstart to mjdstart+60 and determine if SN is a good candidate.\n",
    "\n",
    "def get_90th_percentile_flux(lc, info):\n",
    "    target = AandB(np.where(lc.t['MJD']>info['mjdstart'])[0], np.where(lc.t['MJD']<info['mjdstart']+60)[0])\n",
    "    return np.percentile(lc.t.loc[target, 'uJy'], 90)\n",
    "\n",
    "def get_90th_percentile_flux_loop(lc_dict, lc_info):\n",
    "    lc_info = lc_info.reset_index()\n",
    "    for index in range(0, len(lc_info)):\n",
    "        flux = get_90th_percentile_flux(lc_dict[index], lc_info.loc[index])\n",
    "        if(flux > 1000):\n",
    "            print('For %s, 90th percentile flux %0.2f is over 1000 ' % (lc_info.loc[index,'tnsname'], flux) + u'\\u2713')\n",
    "        else:\n",
    "            print('WARNING: For %s, 90th percentile flux %0.2f is under 1000' % (lc_info.loc[index,'tnsname'], flux))\n",
    "\n",
    "get_90th_percentile_flux_loop(lc_dict, lc_info.t)"
   ]
  },
  {
   "cell_type": "code",
   "execution_count": null,
   "metadata": {},
   "outputs": [],
   "source": []
  }
 ],
 "metadata": {
  "interpreter": {
   "hash": "aee8b7b246df8f9039afb4144a1f6fd8d2ca17a180786b69acc140d282b71a49"
  },
  "kernelspec": {
   "display_name": "Python 3.9.5 64-bit",
   "language": "python",
   "name": "python3"
  },
  "language_info": {
   "codemirror_mode": {
    "name": "ipython",
    "version": 3
   },
   "file_extension": ".py",
   "mimetype": "text/x-python",
   "name": "python",
   "nbconvert_exporter": "python",
   "pygments_lexer": "ipython3",
   "version": "3.9.5"
  },
  "orig_nbformat": 4
 },
 "nbformat": 4,
 "nbformat_minor": 2
}
