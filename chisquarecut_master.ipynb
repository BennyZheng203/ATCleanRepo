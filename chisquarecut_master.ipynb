{
 "cells": [
  {
   "cell_type": "markdown",
   "metadata": {},
   "source": [
    "## Obtaining the Best Chi-Square Cut\n",
    "\n",
    "This iPython notebook will help you ascertain the best chi-square cut for a certain supernova's ATLAS light curve. After running a cell, the descriptions located above that cell will help you interpret the plots and make decisions about the supernova.\n",
    "\n",
    "This notebook takes into account ATLAS's periodic replacement of the difference image reference templates, which may cause step discontinuities in flux. Two template changes have been recorded at MJDs 58417 and 58882. More information can be found here: https://fallingstar-data.com/forcedphot/faq/.\n",
    "\n",
    "In order for this notebook to work correctly, the ATLAS light curve must already be downloaded and saved. It must also only include measurements for a single filter."
   ]
  },
  {
   "cell_type": "markdown",
   "metadata": {},
   "source": [
    "### 1: Setup: loading the ATLAS light curve, accounting for template changes, etc."
   ]
  },
  {
   "cell_type": "code",
   "execution_count": 1,
   "metadata": {},
   "outputs": [],
   "source": [
    "# import modules, set preliminary variables, etc.\n",
    "\n",
    "import sys\n",
    "import numpy as np\n",
    "\n",
    "# storing, accessing, and manipulating the light curve\n",
    "import pandas as pd\n",
    "from pdastro import pdastrostatsclass, AandB, AnotB, AorB, not_AandB\n",
    "\n",
    "# getting discovery date from TNS\n",
    "import requests, json\n",
    "from collections import OrderedDict\n",
    "from astropy.time import Time\n",
    "\n",
    "# plotting\n",
    "import matplotlib.patches as mpatches\n",
    "import matplotlib.pyplot as plt\n",
    "import pylab as matlib\n",
    "import warnings\n",
    "warnings.simplefilter('error', RuntimeWarning)\n",
    "warnings.filterwarnings(\"ignore\")\n",
    "plt.rcParams['figure.figsize'] = [12, 7]\n",
    "#plt.rcParams['font.family'] = 'serif'\n",
    "#plt.rcParams['font.serif'] = 'Times'\n",
    "plt.rcParams['font.size'] = 16\n",
    "\n",
    "# ATLAS template changes\n",
    "global tchange1\n",
    "global tchange2\n",
    "tchange1 = 58417\n",
    "tchange2 = 58882\n",
    "\n",
    "# dictionary for storing important information about the light curve\n",
    "global lc_info\n",
    "lc_info = {}"
   ]
  },
  {
   "cell_type": "code",
   "execution_count": 2,
   "metadata": {},
   "outputs": [],
   "source": [
    "# Enter the target SN name:\n",
    "tnsname = '2019vxm'\n",
    "\n",
    "# Enter the SN light curve file name:\n",
    "filename = '/Users/sofiarest/Google Drive/My Drive/College/STScI Research Paper/atlaslc_chisquare/brightsne/2019vxm/2019vxm_i000.o.lc.txt'\n",
    "\n",
    "# Enter the filter for this light curve (must be 'o' or 'c'):\n",
    "filter = 'o'\n",
    "\n",
    "# Optionally, enter the SN's discovery date (if None is entered, it will be \n",
    "# fetched automatically from TNS):\n",
    "discdate = None"
   ]
  },
  {
   "cell_type": "code",
   "execution_count": 3,
   "metadata": {},
   "outputs": [
    {
     "name": "stdout",
     "output_type": "stream",
     "text": [
      "Obtaining SN 2019vxm discovery date from TNS...\n",
      "Discovery date:  58818.04\n",
      "Loading SN 2019vxm light curve at /Users/sofiarest/Google Drive/My Drive/College/STScI Research Paper/atlaslc_chisquare/brightsne/2019vxm/2019vxm_i000.o.lc.txt...\n",
      "Subtracting median flux 30.0 uJy from light curve flux to account for template shifts...\n",
      "Adding uJy/duJy column to light curve...\n"
     ]
    }
   ],
   "source": [
    "# get discovery date if needed, load in light curve, account for template changes, \n",
    "# and add uJy/duJy column\n",
    "\n",
    "def get_tns_data(tnsname):\n",
    "\ttry:\n",
    "\t\tget_obj = [(\"objname\",tnsname), (\"objid\",\"\"), (\"photometry\",\"1\"), (\"spectra\",\"1\")]\n",
    "\t\tget_url = 'https://www.wis-tns.org/api/get/object'\n",
    "\t\tjson_file = OrderedDict(get_obj)\n",
    "\t\tget_data = {'api_key':'2eca323a16b17d78fbc99cd6f1f801699a81a91c','data':json.dumps(json_file)}\n",
    "\t\tresponse = requests.post(get_url, data=get_data, headers={'User-Agent':'tns_marker{\"tns_id\":104739,\"type\": \"bot\", \"name\":\"Name and Redshift Retriever\"}'})\n",
    "\t\tjson_data = json.loads(response.text,object_pairs_hook=OrderedDict)\n",
    "\t\treturn json_data\n",
    "\texcept Exception as e:\n",
    "\t\treturn 'Error: \\n'+str(e)\n",
    "\n",
    "def get_discdate(tnsname):\n",
    "\tjson_data = get_tns_data(tnsname)\n",
    "\tdiscoverydate = json_data['data']['reply']['discoverydate']\n",
    "\tdate = list(discoverydate.partition(' '))[0]\n",
    "\ttime = list(discoverydate.partition(' '))[2]\n",
    "\tdisc_date_format = date+'T'+time\n",
    "\tdateobjects = Time(disc_date_format, format='isot', scale='utc')\n",
    "\tdisc_date = dateobjects.mjd\n",
    "\treturn disc_date\n",
    "\n",
    "def load_lc(filename):\n",
    "\tlc_info['lc'] = pdastrostatsclass()\n",
    "\ttry:\n",
    "\t\tprint('Loading SN %s light curve at %s...' % (lc_info['tnsname'], filename))\n",
    "\t\tlc_info['lc'].load_spacesep(filename,delim_whitespace=True)\n",
    "\texcept Exception as e:\n",
    "\t\tprint('Could not load light curve for SN %s at %s: %s' % (lc_info['tnsname'], filename, str(e)))\n",
    "\t\tsys.exit()\n",
    "\t\n",
    "\t# get median baseline flux and subtract from all measurements to account for template shifts\n",
    "\tbaseline = np.where(lc_info['lc'].t['MJD'] < lc_info['discdate'])[0]\n",
    "\tmedian_bflux = np.median(lc_info['lc'].t.loc[baseline,'uJy'])\n",
    "\tprint('Subtracting median flux %0.1f uJy from light curve flux to account for template shifts...' % median_bflux)\n",
    "\tlc_info['lc'].t['uJy'] -= median_bflux\n",
    "\n",
    "\t# add flux/dflux column\n",
    "\tprint('Adding uJy/duJy column to light curve...')\n",
    "\tlc_info['lc'].t['uJy/duJy'] = lc_info['lc'].t['uJy']/lc_info['lc'].t['duJy']\n",
    "\tlc_info['lc'].t = lc_info['lc'].t.replace([np.inf, -np.inf], np.nan)\n",
    "\n",
    "\n",
    "lc_info['tnsname'] = tnsname\n",
    "\n",
    "if filter != 'o' and filter != 'c': \n",
    "\tprint('Filter must be \"o\" or \"c\"!')\n",
    "\tsys.exit()\n",
    "lc_info['filter'] = filter\n",
    "\n",
    "if discdate is None:\n",
    "\tprint('Obtaining SN %s discovery date from TNS...' % lc_info['tnsname'])\n",
    "\tdiscdate = get_discdate(lc_info['tnsname'])\n",
    "\tprint('Discovery date: ',discdate)\n",
    "lc_info['discdate'] = discdate\n",
    "\n",
    "load_lc(filename)\n",
    "\n",
    "lc_info['baseline_i'] = np.where(lc_info['lc'].t['MJD'] < lc_info['discdate'])[0]\n",
    "lc_info['afterdiscdate_i'] = np.where(lc_info['lc'].t['MJD'] > lc_info['discdate'])[0]"
   ]
  },
  {
   "cell_type": "markdown",
   "metadata": {},
   "source": [
    "### 2: Plot the ATLAS light curve"
   ]
  },
  {
   "cell_type": "code",
   "execution_count": 4,
   "metadata": {},
   "outputs": [],
   "source": [
    "# Enter the scaling parameter for the plot's upper y limit \n",
    "# (ylim_upper = scale * 95th percentile flux):\n",
    "scale = 2\n",
    "\n",
    "# Optionally, manually enter the plot's x and y limits to override automatic scaling:\n",
    "xlim_lower = None\n",
    "xlim_upper = None\n",
    "ylim_lower = None\n",
    "ylim_upper = None"
   ]
  },
  {
   "cell_type": "code",
   "execution_count": 8,
   "metadata": {},
   "outputs": [
    {
     "data": {
      "image/png": "[encoded data removed]",
      "text/plain": [
       "<Figure size 864x504 with 1 Axes>"
      ]
     },
     "metadata": {
      "needs_background": "light"
     },
     "output_type": "display_data"
    }
   ],
   "source": [
    "# plot the light curve\n",
    "\n",
    "def get_xth_percentile_flux(percentile, indices):\n",
    "    if len(indices)==0: \n",
    "        return None\n",
    "    else:\n",
    "        return np.percentile(lc_info['lc'].t.loc[indices, 'uJy'], percentile)\n",
    "\n",
    "def plot_lc(xlim_lower=None, xlim_upper=None, ylim_lower=None, ylim_upper=None):\n",
    "    fig, ax = plt.subplots(nrows=1, ncols=1)\n",
    "    ax.axhline(linewidth=1,color='k')\n",
    "    ax.set_ylabel('Flux (µJy)')\n",
    "    ax.set_xlabel('MJD')\n",
    "    ax.set_title('SN %s %s-band Light Curve' % (lc_info['tnsname'], lc_info['filter']))\n",
    "    ax.axvline(x=tchange1,color='magenta', label='ATLAS template change')\n",
    "    ax.axvline(x=tchange2,color='magenta')\n",
    "\n",
    "    # set x and y limits\n",
    "    if xlim_lower is None: xlim_lower = lc_info['discdate']-100\n",
    "    if xlim_upper is None: xlim_upper = lc_info['discdate']+400\n",
    "    ax.set_xlim(xlim_lower, xlim_upper)\n",
    "    if ylim_lower is None: ylim_lower = -200\n",
    "    if ylim_upper is None: ylim_upper = scale*get_xth_percentile_flux(95, lc_info['afterdiscdate_i'])\n",
    "    ax.set_ylim(ylim_lower,ylim_upper)\n",
    "\n",
    "    ax.scatter(lc_info['lc'].t.loc[lc_info['baseline_i'],'MJD'], lc_info['lc'].t.loc[lc_info['baseline_i'],'uJy'], \n",
    "               s=35,color='b',marker='o',label='Baseline')\n",
    "\n",
    "    ax.scatter(lc_info['lc'].t.loc[lc_info['afterdiscdate_i'],'MJD'], lc_info['lc'].t.loc[lc_info['afterdiscdate_i'],'uJy'],\n",
    "               s=35,color='c',marker='o',label='During and after SN')\n",
    "    \n",
    "    plt.legend(bbox_to_anchor=(1.02, 1), loc='upper left')\n",
    "\n",
    "    fig.tight_layout()\n",
    "\n",
    "plot_lc(xlim_lower=xlim_lower, xlim_upper=xlim_upper, ylim_lower=ylim_lower, ylim_upper=ylim_upper)"
   ]
  },
  {
   "cell_type": "markdown",
   "metadata": {},
   "source": [
    "### 3: Plot the flux/dflux and chi-square distributions"
   ]
  },
  {
   "cell_type": "code",
   "execution_count": null,
   "metadata": {},
   "outputs": [],
   "source": []
  }
 ],
 "metadata": {
  "interpreter": {
   "hash": "aee8b7b246df8f9039afb4144a1f6fd8d2ca17a180786b69acc140d282b71a49"
  },
  "kernelspec": {
   "display_name": "Python 3.9.5 64-bit",
   "language": "python",
   "name": "python3"
  },
  "language_info": {
   "codemirror_mode": {
    "name": "ipython",
    "version": 3
   },
   "file_extension": ".py",
   "mimetype": "text/x-python",
   "name": "python",
   "nbconvert_exporter": "python",
   "pygments_lexer": "ipython3",
   "version": "3.9.5"
  },
  "orig_nbformat": 4
 },
 "nbformat": 4,
 "nbformat_minor": 2
}
