{
 "cells": [
  {
   "cell_type": "markdown",
   "metadata": {},
   "source": [
    "## Obtaining the Best Chi-Square Cut\n",
    "\n",
    "This iPython notebook will help you ascertain the best chi-square cut for a certain supernova's ATLAS light curve. After running a cell, the descriptions located above that cell will help you interpret the plots and make decisions about the supernova.\n",
    "\n",
    "This notebook takes into account ATLAS's periodic replacement of the difference image reference templates, which may cause step discontinuities in flux. Two template changes have been recorded at MJDs 58417 and 58882. More information can be found here: https://fallingstar-data.com/forcedphot/faq/.\n",
    "\n",
    "In order for this notebook to work correctly, the ATLAS light curve must already be downloaded and saved. It must also only include measurements for a single filter."
   ]
  },
  {
   "cell_type": "markdown",
   "metadata": {},
   "source": [
    "### 1: Setup: load the ATLAS light curve, account for template changes, etc."
   ]
  },
  {
   "cell_type": "code",
   "execution_count": 1,
   "metadata": {},
   "outputs": [],
   "source": [
    "# import modules, set preliminary variables, etc.\n",
    "\n",
    "import sys\n",
    "import numpy as np\n",
    "\n",
    "# storing, accessing, and manipulating the light curve\n",
    "import pandas as pd\n",
    "from pdastro import pdastrostatsclass, AandB, AnotB, AorB, not_AandB\n",
    "\n",
    "# getting discovery date from TNS\n",
    "import requests, json\n",
    "from collections import OrderedDict\n",
    "from astropy.time import Time\n",
    "\n",
    "# plotting\n",
    "import matplotlib.patches as mpatches\n",
    "import matplotlib.pyplot as plt\n",
    "import pylab as matlib\n",
    "import warnings\n",
    "warnings.simplefilter('error', RuntimeWarning)\n",
    "warnings.filterwarnings(\"ignore\")\n",
    "plt.rcParams['figure.figsize'] = [12, 7]\n",
    "#plt.rcParams['font.family'] = 'serif'\n",
    "#plt.rcParams['font.serif'] = 'Times'\n",
    "plt.rcParams['font.size'] = 13\n",
    "\n",
    "# ATLAS template changes\n",
    "global tchange1\n",
    "global tchange2\n",
    "tchange1 = 58417\n",
    "tchange2 = 58882\n",
    "\n",
    "# dictionary for storing important information about the light curve\n",
    "global lc_info\n",
    "lc_info = {}"
   ]
  },
  {
   "cell_type": "code",
   "execution_count": 2,
   "metadata": {},
   "outputs": [],
   "source": [
    "# Enter the target SN name:\n",
    "tnsname = '2019vxm'\n",
    "\n",
    "# Enter the SN light curve file name:\n",
    "filename = '/Users/sofiarest/Google Drive/My Drive/College/STScI Research Paper/atlaslc_chisquare/brightsne/2019vxm/2019vxm_i000.o.lc.txt'\n",
    "\n",
    "# Enter the filter for this light curve (must be 'o' or 'c'):\n",
    "filter = 'o'\n",
    "\n",
    "# Optionally, enter the SN's discovery date (if None is entered, it will be \n",
    "# fetched automatically from TNS):\n",
    "discdate = None"
   ]
  },
  {
   "cell_type": "code",
   "execution_count": 3,
   "metadata": {},
   "outputs": [
    {
     "name": "stdout",
     "output_type": "stream",
     "text": [
      "Obtaining SN 2019vxm discovery date from TNS...\n",
      "Discovery date:  58818.04\n",
      "Loading SN 2019vxm light curve at /Users/sofiarest/Google Drive/My Drive/College/STScI Research Paper/atlaslc_chisquare/brightsne/2019vxm/2019vxm_i000.o.lc.txt...\n",
      "Subtracting median flux 30.0 uJy from light curve flux to account for template shifts...\n",
      "Adding uJy/duJy column to light curve...\n"
     ]
    }
   ],
   "source": [
    "# get discovery date if needed, load in light curve, account for template changes, \n",
    "# and add uJy/duJy column\n",
    "\n",
    "def get_tns_data(tnsname):\n",
    "\ttry:\n",
    "\t\tget_obj = [(\"objname\",tnsname), (\"objid\",\"\"), (\"photometry\",\"1\"), (\"spectra\",\"1\")]\n",
    "\t\tget_url = 'https://www.wis-tns.org/api/get/object'\n",
    "\t\tjson_file = OrderedDict(get_obj)\n",
    "\t\tget_data = {'api_key':'2eca323a16b17d78fbc99cd6f1f801699a81a91c','data':json.dumps(json_file)}\n",
    "\t\tresponse = requests.post(get_url, data=get_data, headers={'User-Agent':'tns_marker{\"tns_id\":104739,\"type\": \"bot\", \"name\":\"Name and Redshift Retriever\"}'})\n",
    "\t\tjson_data = json.loads(response.text,object_pairs_hook=OrderedDict)\n",
    "\t\treturn json_data\n",
    "\texcept Exception as e:\n",
    "\t\treturn 'Error: \\n'+str(e)\n",
    "\n",
    "def get_discdate(tnsname):\n",
    "\tjson_data = get_tns_data(tnsname)\n",
    "\tdiscoverydate = json_data['data']['reply']['discoverydate']\n",
    "\tdate = list(discoverydate.partition(' '))[0]\n",
    "\ttime = list(discoverydate.partition(' '))[2]\n",
    "\tdisc_date_format = date+'T'+time\n",
    "\tdateobjects = Time(disc_date_format, format='isot', scale='utc')\n",
    "\tdisc_date = dateobjects.mjd\n",
    "\treturn disc_date\n",
    "\n",
    "def load_lc(filename):\n",
    "\tlc_info['lc'] = pdastrostatsclass()\n",
    "\ttry:\n",
    "\t\tprint('Loading SN %s light curve at %s...' % (lc_info['tnsname'], filename))\n",
    "\t\tlc_info['lc'].load_spacesep(filename,delim_whitespace=True)\n",
    "\texcept Exception as e:\n",
    "\t\tprint('Could not load light curve for SN %s at %s: %s' % (lc_info['tnsname'], filename, str(e)))\n",
    "\t\tsys.exit()\n",
    "\t\n",
    "\t# get median baseline flux and subtract from all measurements to account for template shifts\n",
    "\tbaseline = np.where(lc_info['lc'].t['MJD'] < lc_info['discdate'])[0]\n",
    "\tmedian_bflux = np.median(lc_info['lc'].t.loc[baseline,'uJy'])\n",
    "\tprint('Subtracting median flux %0.1f uJy from light curve flux to account for template shifts...' % median_bflux)\n",
    "\tlc_info['lc'].t['uJy'] -= median_bflux\n",
    "\n",
    "\t# add flux/dflux column\n",
    "\tprint('Adding uJy/duJy column to light curve...')\n",
    "\tlc_info['lc'].t['uJy/duJy'] = lc_info['lc'].t['uJy']/lc_info['lc'].t['duJy']\n",
    "\tlc_info['lc'].t = lc_info['lc'].t.replace([np.inf, -np.inf], np.nan)\n",
    "\n",
    "\n",
    "lc_info['tnsname'] = tnsname\n",
    "\n",
    "if filter != 'o' and filter != 'c': \n",
    "\tprint('Filter must be \"o\" or \"c\"!')\n",
    "\tsys.exit()\n",
    "lc_info['filter'] = filter\n",
    "\n",
    "if discdate is None:\n",
    "\tprint('Obtaining SN %s discovery date from TNS...' % lc_info['tnsname'])\n",
    "\tdiscdate = get_discdate(lc_info['tnsname'])\n",
    "\tprint('Discovery date: ',discdate)\n",
    "lc_info['discdate'] = discdate\n",
    "\n",
    "load_lc(filename)\n",
    "\n",
    "lc_info['baseline_i'] = np.where(lc_info['lc'].t['MJD'] < lc_info['discdate'])[0]\n",
    "lc_info['afterdiscdate_i'] = np.where(lc_info['lc'].t['MJD'] > lc_info['discdate'])[0]"
   ]
  },
  {
   "cell_type": "markdown",
   "metadata": {},
   "source": [
    "### 2: Plot the ATLAS light curve"
   ]
  },
  {
   "cell_type": "code",
   "execution_count": 4,
   "metadata": {},
   "outputs": [],
   "source": [
    "# Enter the scaling parameter for the plot's upper y limit \n",
    "# (ylim_upper = scale * 95th percentile flux):\n",
    "scale = 2\n",
    "\n",
    "# Optionally, manually enter the plot's x and y limits to override automatic scaling:\n",
    "xlim_lower = None\n",
    "xlim_upper = None\n",
    "ylim_lower = None\n",
    "ylim_upper = None"
   ]
  },
  {
   "cell_type": "code",
   "execution_count": 5,
   "metadata": {},
   "outputs": [
    {
     "data": {
      "image/png": "[encoded data removed]",
      "text/plain": [
       "<Figure size 864x504 with 1 Axes>"
      ]
     },
     "metadata": {
      "needs_background": "light"
     },
     "output_type": "display_data"
    }
   ],
   "source": [
    "# plot the light curve\n",
    "\n",
    "def get_xth_percentile_flux(percentile, indices):\n",
    "    if len(indices)==0: \n",
    "        return None\n",
    "    else:\n",
    "        return np.percentile(lc_info['lc'].t.loc[indices, 'uJy'], percentile)\n",
    "\n",
    "def plot_lc(xlim_lower=None, xlim_upper=None, ylim_lower=None, ylim_upper=None):\n",
    "    fig, ax = plt.subplots(nrows=1, ncols=1)\n",
    "    ax.axhline(linewidth=1,color='k')\n",
    "    ax.set_ylabel('Flux (µJy)')\n",
    "    ax.set_xlabel('MJD')\n",
    "    ax.set_title('SN %s %s-band Light Curve' % (lc_info['tnsname'], lc_info['filter']))\n",
    "    ax.axvline(x=tchange1,color='magenta', label='ATLAS template change')\n",
    "    ax.axvline(x=tchange2,color='magenta')\n",
    "\n",
    "    # set x and y limits\n",
    "    if xlim_lower is None: xlim_lower = lc_info['discdate']-100\n",
    "    if xlim_upper is None: xlim_upper = lc_info['discdate']+400\n",
    "    ax.set_xlim(xlim_lower, xlim_upper)\n",
    "    if ylim_lower is None: ylim_lower = -200\n",
    "    if ylim_upper is None: ylim_upper = scale*get_xth_percentile_flux(95, lc_info['afterdiscdate_i'])\n",
    "    ax.set_ylim(ylim_lower,ylim_upper)\n",
    "\n",
    "    ax.scatter(lc_info['lc'].t.loc[lc_info['baseline_i'],'MJD'], lc_info['lc'].t.loc[lc_info['baseline_i'],'uJy'], \n",
    "               s=35,color='b',marker='o',label='Baseline')\n",
    "\n",
    "    ax.scatter(lc_info['lc'].t.loc[lc_info['afterdiscdate_i'],'MJD'], lc_info['lc'].t.loc[lc_info['afterdiscdate_i'],'uJy'],\n",
    "               s=35,color='c',marker='o',label='During and after SN')\n",
    "    \n",
    "    plt.legend(bbox_to_anchor=(1.02, 1), loc='upper left')\n",
    "\n",
    "    fig.tight_layout()\n",
    "\n",
    "plot_lc(xlim_lower=xlim_lower, xlim_upper=xlim_upper, ylim_lower=ylim_lower, ylim_upper=ylim_upper)"
   ]
  },
  {
   "cell_type": "markdown",
   "metadata": {},
   "source": [
    "### 3: Plot the flux/dflux and chi-square distributions\n",
    "\n",
    "[INSERT DESCRIPTION HERE]"
   ]
  },
  {
   "cell_type": "code",
   "execution_count": 6,
   "metadata": {},
   "outputs": [],
   "source": [
    "# Optionally, manually enter the histograms' x limits here:\n",
    "fdf_xlim_lower = None\n",
    "fdf_xlim_upper = 300\n",
    "x2_xlim_lower = None\n",
    "x2_xlim_upper = 2000"
   ]
  },
  {
   "cell_type": "code",
   "execution_count": 7,
   "metadata": {},
   "outputs": [
    {
     "data": {
      "image/png": "[encoded data removed]",
      "text/plain": [
       "<Figure size 864x504 with 2 Axes>"
      ]
     },
     "metadata": {
      "needs_background": "light"
     },
     "output_type": "display_data"
    }
   ],
   "source": [
    "# plot flux/dflux and chi-square distribution histograms\n",
    "\n",
    "def plot_hists(fdf_xlim_lower=None, fdf_xlim_upper=None, x2_xlim_lower=None, x2_xlim_upper=None):\n",
    "    good_stn_b_i = AandB(lc_info['baseline_i'], np.where(lc_info['lc'].t['uJy/duJy'] < 3.0)[0])\n",
    "    bad_stn_b_i = AandB(lc_info['baseline_i'], np.where(lc_info['lc'].t['uJy/duJy'] >= 3.0)[0])\n",
    "    good_x2_b_i = AandB(lc_info['baseline_i'], np.where(lc_info['lc'].t['chi/N'] < 5.0)[0])\n",
    "    bad_x2_b_i = AandB(lc_info['baseline_i'], np.where(lc_info['lc'].t['chi/N'] >= 5.0)[0])\n",
    "\n",
    "    fig, axes = plt.subplots(nrows=1, ncols=2)\n",
    "    stn, x2 = axes.flatten()\n",
    "    plt.suptitle('SN %s %s-band' % (lc_info['tnsname'], lc_info['filter']), fontsize=15, y=1)\n",
    "\n",
    "    stn.set_title('µJy/dµJy Distribution', fontsize=14)\n",
    "    stn.set_xlabel('µJy/dµJy')\n",
    "    orange = mpatches.Patch(color='orange', label='Data with Chi-Square < 5')\n",
    "    blue = mpatches.Patch(color='blue', label='Data with Chi-Square >= 5')\n",
    "    stn.legend(handles=[orange, blue], loc='upper center', bbox_to_anchor=(0.5, -0.1), ncol=1)\n",
    "    if len(lc_info['baseline_i'])>0: \n",
    "        if fdf_xlim_lower is None: \n",
    "            fdf_xlim_lower = min(lc_info['lc'].t.loc[lc_info['baseline_i'], 'uJy/duJy'])\n",
    "        if fdf_xlim_upper is None: \n",
    "            fdf_xlim_upper = max(lc_info['lc'].t.loc[lc_info['baseline_i'], 'uJy/duJy'])\n",
    "        stn.hist(lc_info['lc'].t.loc[good_x2_b_i, 'uJy/duJy'], bins=30, color='orange', alpha=0.5, range=(fdf_xlim_lower,fdf_xlim_upper), density=True)\n",
    "        stn.hist(lc_info['lc'].t.loc[bad_x2_b_i, 'uJy/duJy'], bins=30, color='blue', alpha=0.5, range=(fdf_xlim_lower,fdf_xlim_upper), density=True)\n",
    "    else:\n",
    "        stn.hist(lc_info['lc'].t.loc[good_x2_b_i, 'uJy/duJy'], bins=30, color='orange', alpha=0.5, density=True)\n",
    "        stn.hist(lc_info['lc'].t.loc[bad_x2_b_i, 'uJy/duJy'], bins=30, color='blue', alpha=0.5, density=True)\n",
    "\n",
    "    x2.set_title('Chi-Square Distribution', fontsize=14)\n",
    "    x2.set_xlabel('Chi-Square')\n",
    "    red = mpatches.Patch(color='green', label='Data with uJy/duJy<3')\n",
    "    green = mpatches.Patch(color='red', label='Data with uJy/duJy>=3')\n",
    "    x2.legend(handles=[red, green], loc='upper center', bbox_to_anchor=(0.5, -0.1), ncol=1)\n",
    "    if len(lc_info['baseline_i'])>0:\n",
    "        if x2_xlim_lower is None: \n",
    "            x2_xlim_lower = min(lc_info['lc'].t.loc[lc_info['baseline_i'], 'chi/N'])\n",
    "        if x2_xlim_upper is None: \n",
    "            x2_xlim_upper = max(lc_info['lc'].t.loc[lc_info['baseline_i'], 'chi/N'])\n",
    "        x2.hist(lc_info['lc'].t.loc[good_stn_b_i, 'chi/N'], bins=30, color='green', alpha=0.5, range=(x2_xlim_lower,x2_xlim_upper), density=True)\n",
    "        x2.hist(lc_info['lc'].t.loc[bad_stn_b_i, 'chi/N'], bins=30, color='red', alpha=0.5, range=(x2_xlim_lower,x2_xlim_upper), density=True)\n",
    "    else:\n",
    "        x2.hist(lc_info['lc'].t.loc[good_stn_b_i, 'chi/N'], bins=30, color='green', alpha=0.5, density=True)\n",
    "        x2.hist(lc_info['lc'].t.loc[bad_stn_b_i, 'chi/N'], bins=30, color='red', alpha=0.5, density=True)\n",
    "\n",
    "plot_hists(fdf_xlim_lower=fdf_xlim_lower, fdf_xlim_upper=fdf_xlim_upper, x2_xlim_lower=x2_xlim_lower, x2_xlim_upper=x2_xlim_upper)"
   ]
  },
  {
   "cell_type": "markdown",
   "metadata": {},
   "source": [
    "### 4: Calculate best chi-square cut based on contamination and loss\n",
    "\n",
    "[INSERT DESCRIPTION]"
   ]
  },
  {
   "cell_type": "code",
   "execution_count": null,
   "metadata": {},
   "outputs": [],
   "source": [
    "# Enter the contamination limit (contamination=Nbad,kept/Nkept must be <= contam_lim%):\n",
    "contam_lim = 10.0\n",
    "\n",
    "# Enter the loss limit (loss=Ngood,cut/Ngood must be >= loss_lim%):\n",
    "loss_lim = 10.0\n",
    "\n",
    "# Enter the limit to prioritize (must be 'loss_lim' or 'contam_lim', \n",
    "# based on which is more important):\n",
    "lim_to_prioritize = 'loss_lim'\n",
    "\n",
    "# Enter the parameters for the chi-square cut (minimum cut, maximum cut, and step):\n",
    "cut_start = 3 # this is inclusive\n",
    "cut_stop = 50 # this is inclusive\n",
    "cut_step = 1\n",
    "\n",
    "# Enter the uJy/duJy cut that will determine a \"good\" measurement from\n",
    "# a \"bad\" measurement:\n",
    "stn_cut = 3"
   ]
  },
  {
   "cell_type": "code",
   "execution_count": null,
   "metadata": {},
   "outputs": [],
   "source": [
    "# IN PROGESS: calculate the suggested best chi-square cut using contamination and loss\n",
    "\n",
    "def plot_lim_cuts():\n",
    "\n",
    "\n",
    "def choose_btwn_lim_cuts():\n",
    "\n",
    "\n",
    "def get_lim_cuts(): \n",
    "    \n",
    "\n",
    "def get_lim_cuts_table(stn_cut, cut_start, cut_stop, cut_step, indices=None):\n",
    "    print('abs(uJy/duJy) cut at %0.2f \\nx2 cut from %0.2f to %0.2f inclusive, with step size %d' % (stn_cut,cut_start,cut_stop,cut_step))\n",
    "\n",
    "    if indices is None: \n",
    "        indices = lc_info['baseline_i']\n",
    "\n",
    "    lim_cuts = pdastrostatsclass(columns=['PSF Chi-Square Cut', 'N', 'Ngood', 'Nbad', 'Nkept', 'Ncut', 'Ngood,kept', 'Ngood,cut', 'Nbad,kept', 'Nbad,cut',\n",
    "                                          'Pgood,kept', 'Pgood,cut', 'Pbad,kept', 'Pbad,cut', 'Ngood,kept/Ngood', 'Loss', 'Contamination'])\n",
    "    \n",
    "    # static cut at x2 = 50\n",
    "    x2cut_50 = np.where(lc_info['lc'].t['chi/N'] < 50)[0]\n",
    "    print('Static chi square cut at 50: %0.2f%% cut for baseline' % (100*len(AnotB(indices,x2cut_50))/len(indices)))\n",
    "\n",
    "    # good baseline measurement indices\n",
    "    b_stncut_i = AandB(indices, np.where(abs(lc_info['lc'].t['uJy/duJy']) < stn_cut)[0])\n",
    "    # for different x2 cuts decreasing from 50\n",
    "    for cut in range(cut_start,cut_stop+1,cut_step):\n",
    "        # kept baseline measurement indices\n",
    "        b_x2cut_i = AandB(indices, np.where(lc_info['lc'].t['chi/N'] < cut)[0])\n",
    "\n",
    "        df = pd.DataFrame([[cut, len(indices), # N\n",
    "                            len(b_stncut_i), # Ngood\n",
    "                            len(AnotB(indices,b_stncut_i)), # Nbad\n",
    "                            len(b_x2cut_i), # Nkept\n",
    "                            len(AnotB(indices,b_x2cut_i)), # Ncut\n",
    "                            len(AandB(b_stncut_i,b_x2cut_i)), # Ngood,kept\n",
    "                            len(AnotB(b_stncut_i,b_x2cut_i)), # Ngood,cut\n",
    "                            len(AnotB(b_x2cut_i,b_stncut_i)), # Nbad,kept\n",
    "                            len(AandB(AnotB(indices,b_stncut_i),AnotB(indices,b_x2cut_i))), # Nbad,cut\n",
    "                            100*len(AandB(b_stncut_i,b_x2cut_i))/len(indices), # Ngood,kept/Nbaseline\n",
    "                            100*len(AnotB(b_stncut_i,b_x2cut_i))/len(indices), # Ngood,cut/Nbaseline \n",
    "                            100*len(AnotB(b_x2cut_i,b_stncut_i))/len(indices), # Nbad,kept/Nbaseline\n",
    "                            100*len(AandB(AnotB(indices,b_stncut_i),AnotB(indices,b_x2cut_i)))/len(indices), # Nbad,cut/Nbaseline\n",
    "                            100*len(AandB(b_stncut_i,b_x2cut_i))/len(b_stncut_i), # Ngood,kept/Ngood\n",
    "                            100*len(AnotB(b_stncut_i,b_x2cut_i))/len(b_stncut_i), # Ngood,cut/Ngood = Loss\n",
    "                            100*len(AnotB(b_x2cut_i,b_stncut_i))/len(b_x2cut_i)]], # Nbad,kept/Nkept = Contamination\n",
    "                            columns=['PSF Chi-Square Cut', 'N', 'Ngood', 'Nbad', 'Nkept', 'Ncut', 'Ngood,kept', 'Ngood,cut', 'Nbad,kept', 'Nbad,cut',\n",
    "                                     'Pgood,kept', 'Pgood,cut', 'Pbad,kept', 'Pbad,cut', 'Ngood,kept/Ngood', 'Loss', 'Contamination'])\n",
    "        lim_cuts.t = pd.concat([lim_cuts.t,df],ignore_index=True)\n",
    "    \n",
    "    return lim_cuts\n",
    "\n",
    "if lim_to_prioritize != 'loss_lim' and lim_to_prioritize != 'contam_lim':\n",
    "    print(\"ERROR: lim_to_prioritize must be 'loss_lim' or 'contam_lim'!\")\n",
    "    sys.exit()\n",
    "\n",
    "lim_cuts = get_lim_cuts_table(stn_cut, cut_start, cut_stop, cut_step)\n",
    "#print(lim_cuts.t.to_string())\n",
    "\n",
    "contam_lim_cut, loss_lim_cut, contam_case, loss_case = get_lim_cuts(lim_cuts)\n",
    "print('Contamination cut according to given contam_limit: ',contam_lim_cut,'\\nLoss cut according to given loss_limit: ',loss_lim_cut)\n",
    "lc_info['contam_case'] = contam_case\n",
    "lc_info['loss_case'] = loss_case\n",
    "lc_info['contam_lim_cut'] = contam_lim_cut\n",
    "lc_info['loss_lim_cut'] = loss_lim_cut\n",
    "\n",
    "final_cut = choose_btwn_lim_cuts(contam_lim_cut, loss_lim_cut, contam_case, loss_case)\n",
    "lc_info['final_cut'] = final_cut\n",
    "        \n",
    "if np.isnan(final_cut):\n",
    "    print('Final suggested chi-square cut could not be determined.')\n",
    "    lc_info['Pcontamination'] = np.nan\n",
    "    lc_info['Ploss'] = np.nan\n",
    "else:\n",
    "    lc_info['Pcontamination'] = lim_cuts.t.loc[np.where(lim_cuts.t['PSF Chi-Square Cut']==final_cut)[0][0],'Contamination']\n",
    "    lc_info['Ploss'] = lim_cuts.t.loc[np.where(lim_cuts.t['PSF Chi-Square Cut']==final_cut)[0][0],'Loss']\n",
    "    print('Final suggested chi-square cut is %d, with %0.2f%% contamination and %0.2f%% loss.' % (final_cut, lc_info['Pcontamination'], lc_info['Ploss']))\n",
    "\n",
    "plot_lim_cuts(lim_cuts, contam_lim_cut, loss_lim_cut)"
   ]
  },
  {
   "cell_type": "code",
   "execution_count": null,
   "metadata": {},
   "outputs": [],
   "source": []
  }
 ],
 "metadata": {
  "interpreter": {
   "hash": "aee8b7b246df8f9039afb4144a1f6fd8d2ca17a180786b69acc140d282b71a49"
  },
  "kernelspec": {
   "display_name": "Python 3.9.5 64-bit",
   "language": "python",
   "name": "python3"
  },
  "language_info": {
   "codemirror_mode": {
    "name": "ipython",
    "version": 3
   },
   "file_extension": ".py",
   "mimetype": "text/x-python",
   "name": "python",
   "nbconvert_exporter": "python",
   "pygments_lexer": "ipython3",
   "version": "3.9.5"
  },
  "orig_nbformat": 4
 },
 "nbformat": 4,
 "nbformat_minor": 2
}
