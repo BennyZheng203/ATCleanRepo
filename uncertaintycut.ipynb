{
 "cells": [
  {
   "cell_type": "code",
   "execution_count": 3,
   "metadata": {},
   "outputs": [],
   "source": [
    "import sys, re\n",
    "import numpy as np\n",
    "import pandas as pd\n",
    "from pdastro import pdastrostatsclass, AandB, AnotB, AorB, not_AandB\n",
    "\n",
    "import matplotlib\n",
    "import matplotlib.patches as mpatches\n",
    "import matplotlib.pyplot as plt\n",
    "import pylab as matlib\n",
    "import warnings\n",
    "warnings.simplefilter('error', RuntimeWarning)\n",
    "warnings.filterwarnings(\"ignore\")\n",
    "plt.rc('axes', titlesize=18)\n",
    "plt.rc('axes', labelsize=14)\n",
    "plt.rc('xtick', labelsize=13)\n",
    "plt.rc('ytick', labelsize=13)\n",
    "plt.rc('legend', fontsize=13)\n",
    "plt.rc('font', size=13)\n",
    "plt.rcParams['font.size'] = 12\n",
    "plt.style.use('bmh')"
   ]
  },
  {
   "cell_type": "code",
   "execution_count": 10,
   "metadata": {},
   "outputs": [
    {
     "name": "stdout",
     "output_type": "stream",
     "text": [
      "{'2019vxm_nearbystars.txt': <pdastro.pdastrostatsclass object at 0x7fae69817220>, '2020lse_nearbystars.txt': <pdastro.pdastrostatsclass object at 0x7fae6a4324c0>}\n",
      "              ra        dec    G_mag\n",
      "0     299.749329  62.009544  12.5326\n",
      "1     299.304504  62.135255  12.6604\n",
      "2     299.953992  62.194550  12.7385\n",
      "3     299.603627  62.165372  12.7922\n",
      "4     299.448993  62.258694  12.8001\n",
      "...          ...        ...      ...\n",
      "1091  299.449162  62.128052  19.4911\n",
      "1092  299.511622  62.225386  19.4959\n",
      "1093  299.681748  62.065619  19.4960\n",
      "1094  299.894899  62.137798  19.4977\n",
      "1095  299.680548  62.272492  19.4999\n",
      "\n",
      "[1096 rows x 3 columns]\n",
      "             ra        dec    G_mag\n",
      "0    160.316859 -27.111092  12.5351\n",
      "1    160.435617 -27.113276  12.8439\n",
      "2    160.290113 -27.174042  13.0545\n",
      "3    160.255780 -26.985854  13.0695\n",
      "4    160.210737 -27.072766  13.1068\n",
      "..          ...        ...      ...\n",
      "424  160.314415 -26.965294  19.4447\n",
      "425  160.144212 -27.132851  19.4453\n",
      "426  160.185376 -26.959029  19.4573\n",
      "427  160.330333 -27.205561  19.4722\n",
      "428  160.238383 -27.045813  19.4729\n",
      "\n",
      "[429 rows x 3 columns]\n"
     ]
    }
   ],
   "source": [
    "filenames = ['2019vxm_nearbystars.txt','2020lse_nearbystars.txt']\n",
    "lists = {}\n",
    "\n",
    "for filename in filenames:\n",
    "    lists[filename] = pdastrostatsclass()\n",
    "    lists[filename].load_spacesep(filename,delim_whitespace=True)\n",
    "\n",
    "print(lists)\n",
    "print(lists[filenames[0]].t)\n",
    "print(lists[filenames[1]].t)"
   ]
  },
  {
   "cell_type": "code",
   "execution_count": null,
   "metadata": {},
   "outputs": [],
   "source": []
  },
  {
   "cell_type": "code",
   "execution_count": null,
   "metadata": {},
   "outputs": [],
   "source": []
  }
 ],
 "metadata": {
  "interpreter": {
   "hash": "aee8b7b246df8f9039afb4144a1f6fd8d2ca17a180786b69acc140d282b71a49"
  },
  "kernelspec": {
   "display_name": "Python 3.9.5 64-bit",
   "language": "python",
   "name": "python3"
  },
  "language_info": {
   "codemirror_mode": {
    "name": "ipython",
    "version": 3
   },
   "file_extension": ".py",
   "mimetype": "text/x-python",
   "name": "python",
   "nbconvert_exporter": "python",
   "pygments_lexer": "ipython3",
   "version": "3.9.5"
  },
  "orig_nbformat": 4
 },
 "nbformat": 4,
 "nbformat_minor": 2
}
