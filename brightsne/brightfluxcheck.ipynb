{
 "cells": [
  {
   "cell_type": "code",
   "execution_count": 5,
   "metadata": {},
   "outputs": [],
   "source": [
    "import numpy as np\n",
    "import pandas as pd\n",
    "import sys\n",
    "import matplotlib.pyplot as plt\n",
    "import pylab as matlib\n",
    "from pdastro import pdastrostatsclass, AandB, AnotB, AorB, not_AandB"
   ]
  },
  {
   "cell_type": "code",
   "execution_count": 6,
   "metadata": {},
   "outputs": [],
   "source": [
    "lc_dict = {}\n",
    "\n",
    "lc_info = pdastrostatsclass()\n",
    "lc_info.t['tnsname'] = ['2017gjn','2017glq','2017gup','2017guu','2017guv','2017haf','2017gqr','2017guh','2017gvp','2017ghu','2017hgz','2017hjw','2017hjy','2017hoq','2017hpa','2017hou','2017igf','2017isq','2017gxq','2017isj','2017iyb','2017iji','2017jav','2017iyw','2017jyl','2018cqw','2020ejm','2017izu','2019syd','2017gjd','2018jaj','2018jov','2018jaz','2018jaz','2018imd','2018kfv','2017jd','2018pc','2020fcw','2018hkq','2019wdx','2018lqy','2018gfi','2018K','2020dkm','2018yh','2020afp','2019wrz','2018gv','2018iq','2018gl','2018kp','2018oh','2018pv','2018xx','2018yu','2018aaz','2018zz','2018ajp','2018aqh','2018aoz','2018aqi','2018azu','2018aye','2018cnj','2018cqj','2018cuw','2018dda','2018dzy','2018ebk','2018ddi','2018enc','2018epx','2018etm','2018feb','2018fop','2018fli','2018fnq','2018fhx']\n",
    "lc_info.t['mjdstart'] = [57994.85992,57999.35754,58013.556,58009.58899,58011.305,58026.5,58005.1567,58014.31,58019.48,57991.4866,58036.02,58040.57399,58040.49699,58047.551,58051.34602,58050.37014,58075.59,58091.618,58013.453,58089.34568,58103.44699,58077.64,58106.24301,58105.3,58117.546,58287.2,58919.23791,58101.97699,58767.10699,57994.09,58447.48199,58460.583,58442.51023,58442.51023,58436.8626,58468.28699,57762.21399,58152.75,58936.437,58406.37,58824.38,58358.39,58373.4,58121.13589,58904.44051,58173.25,58866.66,58832.48,58133.68132,58137.49453,58131.56999,58142.36257,58153.49,58152.63133,58170.38199,58178.223,58183.56689,58180.92,58195.81,58213.44899,58210.30899,58214.07,58220.28699,58229.31,58266.61199,58282.268,58293.515,58303.96,58315.59399,58315.55199,58301.44,58332.32699,58335.605,58338.343,58346.16399,58351.56899,58343.15199,58361.08,58351.38]"
   ]
  },
  {
   "cell_type": "code",
   "execution_count": 7,
   "metadata": {},
   "outputs": [
    {
     "name": "stdout",
     "output_type": "stream",
     "text": [
      "Loading SN 2017gjn at /Users/svoncoelln/documents/data/Archive/test1/2017gjn/2017gjn_i000.o.lc.txt...\n",
      "Loading SN 2017glq at /Users/svoncoelln/documents/data/Archive/test1/2017glq/2017glq_i000.o.lc.txt...\n",
      "Loading SN 2017gup at /Users/svoncoelln/documents/data/Archive/test1/2017gup/2017gup_i000.o.lc.txt...\n",
      "Loading SN 2017guu at /Users/svoncoelln/documents/data/Archive/test1/2017guu/2017guu_i000.o.lc.txt...\n",
      "Loading SN 2017guv at /Users/svoncoelln/documents/data/Archive/test1/2017guv/2017guv_i000.o.lc.txt...\n",
      "Loading SN 2017haf at /Users/svoncoelln/documents/data/Archive/test1/2017haf/2017haf_i000.o.lc.txt...\n",
      "Loading SN 2017gqr at /Users/svoncoelln/documents/data/Archive/test1/2017gqr/2017gqr_i000.o.lc.txt...\n",
      "Loading SN 2017guh at /Users/svoncoelln/documents/data/Archive/test1/2017guh/2017guh_i000.o.lc.txt...\n",
      "Loading SN 2017gvp at /Users/svoncoelln/documents/data/Archive/test1/2017gvp/2017gvp_i000.o.lc.txt...\n",
      "Loading SN 2017ghu at /Users/svoncoelln/documents/data/Archive/test1/2017ghu/2017ghu_i000.o.lc.txt...\n",
      "Loading SN 2017hgz at /Users/svoncoelln/documents/data/Archive/test1/2017hgz/2017hgz_i000.o.lc.txt...\n",
      "Loading SN 2017hjw at /Users/svoncoelln/documents/data/Archive/test1/2017hjw/2017hjw_i000.o.lc.txt...\n",
      "Loading SN 2017hjy at /Users/svoncoelln/documents/data/Archive/test1/2017hjy/2017hjy_i000.o.lc.txt...\n",
      "Loading SN 2017hoq at /Users/svoncoelln/documents/data/Archive/test1/2017hoq/2017hoq_i000.o.lc.txt...\n",
      "Loading SN 2017hpa at /Users/svoncoelln/documents/data/Archive/test1/2017hpa/2017hpa_i000.o.lc.txt...\n",
      "Loading SN 2017hou at /Users/svoncoelln/documents/data/Archive/test1/2017hou/2017hou_i000.o.lc.txt...\n",
      "Loading SN 2017igf at /Users/svoncoelln/documents/data/Archive/test1/2017igf/2017igf_i000.o.lc.txt...\n",
      "Loading SN 2017isq at /Users/svoncoelln/documents/data/Archive/test1/2017isq/2017isq_i000.o.lc.txt...\n",
      "Loading SN 2017gxq at /Users/svoncoelln/documents/data/Archive/test1/2017gxq/2017gxq_i000.o.lc.txt...\n",
      "Loading SN 2017isj at /Users/svoncoelln/documents/data/Archive/test1/2017isj/2017isj_i000.o.lc.txt...\n",
      "Loading SN 2017iyb at /Users/svoncoelln/documents/data/Archive/test1/2017iyb/2017iyb_i000.o.lc.txt...\n",
      "Loading SN 2017iji at /Users/svoncoelln/documents/data/Archive/test1/2017iji/2017iji_i000.o.lc.txt...\n",
      "Loading SN 2017jav at /Users/svoncoelln/documents/data/Archive/test1/2017jav/2017jav_i000.o.lc.txt...\n",
      "Loading SN 2017iyw at /Users/svoncoelln/documents/data/Archive/test1/2017iyw/2017iyw_i000.o.lc.txt...\n",
      "Loading SN 2017jyl at /Users/svoncoelln/documents/data/Archive/test1/2017jyl/2017jyl_i000.o.lc.txt...\n",
      "Loading SN 2018cqw at /Users/svoncoelln/documents/data/Archive/test1/2018cqw/2018cqw_i000.o.lc.txt...\n",
      "Loading SN 2020ejm at /Users/svoncoelln/documents/data/Archive/test1/2020ejm/2020ejm_i000.o.lc.txt...\n",
      "Loading SN 2017izu at /Users/svoncoelln/documents/data/Archive/test1/2017izu/2017izu_i000.o.lc.txt...\n",
      "Loading SN 2019syd at /Users/svoncoelln/documents/data/Archive/test1/2019syd/2019syd_i000.o.lc.txt...\n",
      "Loading SN 2017gjd at /Users/svoncoelln/documents/data/Archive/test1/2017gjd/2017gjd_i000.o.lc.txt...\n",
      "Loading SN 2018jaj at /Users/svoncoelln/documents/data/Archive/test1/2018jaj/2018jaj_i000.o.lc.txt...\n",
      "Loading SN 2018jov at /Users/svoncoelln/documents/data/Archive/test1/2018jov/2018jov_i000.o.lc.txt...\n",
      "Loading SN 2018jaz at /Users/svoncoelln/documents/data/Archive/test1/2018jaz/2018jaz_i000.o.lc.txt...\n",
      "Loading SN 2018jaz at /Users/svoncoelln/documents/data/Archive/test1/2018jaz/2018jaz_i000.o.lc.txt...\n",
      "Loading SN 2018imd at /Users/svoncoelln/documents/data/Archive/test1/2018imd/2018imd_i000.o.lc.txt...\n",
      "Loading SN 2018kfv at /Users/svoncoelln/documents/data/Archive/test1/2018kfv/2018kfv_i000.o.lc.txt...\n",
      "Loading SN 2017jd at /Users/svoncoelln/documents/data/Archive/test1/2017jd/2017jd_i000.o.lc.txt...\n",
      "Loading SN 2018pc at /Users/svoncoelln/documents/data/Archive/test1/2018pc/2018pc_i000.o.lc.txt...\n",
      "Loading SN 2020fcw at /Users/svoncoelln/documents/data/Archive/test1/2020fcw/2020fcw_i000.o.lc.txt...\n",
      "Loading SN 2018hkq at /Users/svoncoelln/documents/data/Archive/test1/2018hkq/2018hkq_i000.o.lc.txt...\n",
      "Loading SN 2019wdx at /Users/svoncoelln/documents/data/Archive/test1/2019wdx/2019wdx_i000.o.lc.txt...\n",
      "Loading SN 2018lqy at /Users/svoncoelln/documents/data/Archive/test1/2018lqy/2018lqy_i000.o.lc.txt...\n",
      "Loading SN 2018gfi at /Users/svoncoelln/documents/data/Archive/test1/2018gfi/2018gfi_i000.o.lc.txt...\n",
      "Loading SN 2018K at /Users/svoncoelln/documents/data/Archive/test1/2018K/2018K_i000.o.lc.txt...\n",
      "Loading SN 2020dkm at /Users/svoncoelln/documents/data/Archive/test1/2020dkm/2020dkm_i000.o.lc.txt...\n",
      "Loading SN 2018yh at /Users/svoncoelln/documents/data/Archive/test1/2018yh/2018yh_i000.o.lc.txt...\n",
      "Loading SN 2020afp at /Users/svoncoelln/documents/data/Archive/test1/2020afp/2020afp_i000.o.lc.txt...\n",
      "Loading SN 2019wrz at /Users/svoncoelln/documents/data/Archive/test1/2019wrz/2019wrz_i000.o.lc.txt...\n",
      "Loading SN 2018gv at /Users/svoncoelln/documents/data/Archive/test1/2018gv/2018gv_i000.o.lc.txt...\n",
      "Loading SN 2018iq at /Users/svoncoelln/documents/data/Archive/test1/2018iq/2018iq_i000.o.lc.txt...\n",
      "Loading SN 2018gl at /Users/svoncoelln/documents/data/Archive/test1/2018gl/2018gl_i000.o.lc.txt...\n",
      "Loading SN 2018kp at /Users/svoncoelln/documents/data/Archive/test1/2018kp/2018kp_i000.o.lc.txt...\n",
      "Loading SN 2018oh at /Users/svoncoelln/documents/data/Archive/test1/2018oh/2018oh_i000.o.lc.txt...\n",
      "Loading SN 2018pv at /Users/svoncoelln/documents/data/Archive/test1/2018pv/2018pv_i000.o.lc.txt...\n",
      "Loading SN 2018xx at /Users/svoncoelln/documents/data/Archive/test1/2018xx/2018xx_i000.o.lc.txt...\n",
      "Loading SN 2018yu at /Users/svoncoelln/documents/data/Archive/test1/2018yu/2018yu_i000.o.lc.txt...\n",
      "Loading SN 2018aaz at /Users/svoncoelln/documents/data/Archive/test1/2018aaz/2018aaz_i000.o.lc.txt...\n",
      "Loading SN 2018zz at /Users/svoncoelln/documents/data/Archive/test1/2018zz/2018zz_i000.o.lc.txt...\n",
      "Loading SN 2018ajp at /Users/svoncoelln/documents/data/Archive/test1/2018ajp/2018ajp_i000.o.lc.txt...\n",
      "Loading SN 2018aqh at /Users/svoncoelln/documents/data/Archive/test1/2018aqh/2018aqh_i000.o.lc.txt...\n",
      "Loading SN 2018aoz at /Users/svoncoelln/documents/data/Archive/test1/2018aoz/2018aoz_i000.o.lc.txt...\n",
      "Loading SN 2018aqi at /Users/svoncoelln/documents/data/Archive/test1/2018aqi/2018aqi_i000.o.lc.txt...\n",
      "Loading SN 2018azu at /Users/svoncoelln/documents/data/Archive/test1/2018azu/2018azu_i000.o.lc.txt...\n",
      "Loading SN 2018aye at /Users/svoncoelln/documents/data/Archive/test1/2018aye/2018aye_i000.o.lc.txt...\n",
      "Loading SN 2018cnj at /Users/svoncoelln/documents/data/Archive/test1/2018cnj/2018cnj_i000.o.lc.txt...\n",
      "Loading SN 2018cqj at /Users/svoncoelln/documents/data/Archive/test1/2018cqj/2018cqj_i000.o.lc.txt...\n",
      "Loading SN 2018cuw at /Users/svoncoelln/documents/data/Archive/test1/2018cuw/2018cuw_i000.o.lc.txt...\n",
      "Loading SN 2018dda at /Users/svoncoelln/documents/data/Archive/test1/2018dda/2018dda_i000.o.lc.txt...\n",
      "Loading SN 2018dzy at /Users/svoncoelln/documents/data/Archive/test1/2018dzy/2018dzy_i000.o.lc.txt...\n",
      "Loading SN 2018ebk at /Users/svoncoelln/documents/data/Archive/test1/2018ebk/2018ebk_i000.o.lc.txt...\n",
      "Loading SN 2018ddi at /Users/svoncoelln/documents/data/Archive/test1/2018ddi/2018ddi_i000.o.lc.txt...\n",
      "Loading SN 2018enc at /Users/svoncoelln/documents/data/Archive/test1/2018enc/2018enc_i000.o.lc.txt...\n",
      "Loading SN 2018epx at /Users/svoncoelln/documents/data/Archive/test1/2018epx/2018epx_i000.o.lc.txt...\n",
      "Loading SN 2018etm at /Users/svoncoelln/documents/data/Archive/test1/2018etm/2018etm_i000.o.lc.txt...\n",
      "Loading SN 2018feb at /Users/svoncoelln/documents/data/Archive/test1/2018feb/2018feb_i000.o.lc.txt...\n",
      "Loading SN 2018fop at /Users/svoncoelln/documents/data/Archive/test1/2018fop/2018fop_i000.o.lc.txt...\n",
      "Loading SN 2018fli at /Users/svoncoelln/documents/data/Archive/test1/2018fli/2018fli_i000.o.lc.txt...\n",
      "Loading SN 2018fnq at /Users/svoncoelln/documents/data/Archive/test1/2018fnq/2018fnq_i000.o.lc.txt...\n",
      "Loading SN 2018fhx at /Users/svoncoelln/documents/data/Archive/test1/2018fhx/2018fhx_i000.o.lc.txt...\n"
     ]
    }
   ],
   "source": [
    "def load_lc_dicts(lc_dict, lc_info):\n",
    "    lc_info = lc_info.reset_index()\n",
    "    for index in range(0,len(lc_info)):\n",
    "        lc_dict[index] = pdastrostatsclass()\n",
    "        dir = '/Users/svoncoelln/documents/data/Archive'\n",
    "        filename = dir+'/test1/'+lc_info.loc[index,'tnsname']+'/'+lc_info.loc[index,'tnsname']+'_i000.o.lc.txt'\n",
    "        print('Loading SN '+lc_info.loc[index,'tnsname']+' at '+filename+'...')\n",
    "        lc_dict[index].load_spacesep(filename,delim_whitespace=True)\n",
    "        lc_dict[index].t['uJy/duJy'] = lc_dict[index].t['uJy']/lc_dict[index].t['duJy']\n",
    "    return lc_dict\n",
    "\n",
    "lc = load_lc_dicts(lc_dict, lc_info.t)"
   ]
  },
  {
   "cell_type": "code",
   "execution_count": 8,
   "metadata": {},
   "outputs": [
    {
     "name": "stdout",
     "output_type": "stream",
     "text": [
      "For 2017gjn, 90th percentile flux 2429.40 is over 1000 ✓\n",
      "For 2017glq, 90th percentile flux 4546.00 is over 1000 ✓\n",
      "WARNING: For 2017gup, 90th percentile flux 405.00 is under 1000\n",
      "WARNING: For 2017guu, 90th percentile flux 540.80 is under 1000\n",
      "WARNING: For 2017guv, 90th percentile flux 700.80 is under 1000\n",
      "For 2017haf, 90th percentile flux 1625.60 is over 1000 ✓\n",
      "WARNING: For 2017gqr, 90th percentile flux 877.00 is under 1000\n",
      "For 2017guh, 90th percentile flux 1806.00 is over 1000 ✓\n",
      "For 2017gvp, 90th percentile flux 1064.40 is over 1000 ✓\n",
      "WARNING: For 2017ghu, 90th percentile flux 141.60 is under 1000\n",
      "For 2017hgz, 90th percentile flux 2453.40 is over 1000 ✓\n",
      "For 2017hjw, 90th percentile flux 1276.00 is over 1000 ✓\n",
      "For 2017hjy, 90th percentile flux 1821.00 is over 1000 ✓\n",
      "WARNING: For 2017hoq, 90th percentile flux 859.60 is under 1000\n",
      "For 2017hpa, 90th percentile flux 1957.10 is over 1000 ✓\n",
      "WARNING: For 2017hou, 90th percentile flux 438.40 is under 1000\n",
      "For 2017igf, 90th percentile flux 3890.60 is over 1000 ✓\n",
      "For 2017isq, 90th percentile flux 1963.80 is over 1000 ✓\n"
     ]
    },
    {
     "ename": "IndexError",
     "evalue": "cannot do a non-empty take from an empty axes.",
     "output_type": "error",
     "traceback": [
      "\u001b[0;31m---------------------------------------------------------------------------\u001b[0m",
      "\u001b[0;31mIndexError\u001b[0m                                Traceback (most recent call last)",
      "\u001b[0;32m/var/folders/6w/hdrgkhvj5gs8m0p18llgfyhh0002wp/T/ipykernel_22380/473230428.py\u001b[0m in \u001b[0;36m<module>\u001b[0;34m\u001b[0m\n\u001b[1;32m     14\u001b[0m             \u001b[0mprint\u001b[0m\u001b[0;34m(\u001b[0m\u001b[0;34m'WARNING: For %s, 90th percentile flux %0.2f is under 1000'\u001b[0m \u001b[0;34m%\u001b[0m \u001b[0;34m(\u001b[0m\u001b[0mlc_info\u001b[0m\u001b[0;34m.\u001b[0m\u001b[0mloc\u001b[0m\u001b[0;34m[\u001b[0m\u001b[0mindex\u001b[0m\u001b[0;34m,\u001b[0m\u001b[0;34m'tnsname'\u001b[0m\u001b[0;34m]\u001b[0m\u001b[0;34m,\u001b[0m \u001b[0mflux\u001b[0m\u001b[0;34m)\u001b[0m\u001b[0;34m)\u001b[0m\u001b[0;34m\u001b[0m\u001b[0;34m\u001b[0m\u001b[0m\n\u001b[1;32m     15\u001b[0m \u001b[0;34m\u001b[0m\u001b[0m\n\u001b[0;32m---> 16\u001b[0;31m \u001b[0mget_90th_percentile_flux_loop\u001b[0m\u001b[0;34m(\u001b[0m\u001b[0mlc_dict\u001b[0m\u001b[0;34m,\u001b[0m \u001b[0mlc_info\u001b[0m\u001b[0;34m.\u001b[0m\u001b[0mt\u001b[0m\u001b[0;34m)\u001b[0m\u001b[0;34m\u001b[0m\u001b[0;34m\u001b[0m\u001b[0m\n\u001b[0m",
      "\u001b[0;32m/var/folders/6w/hdrgkhvj5gs8m0p18llgfyhh0002wp/T/ipykernel_22380/473230428.py\u001b[0m in \u001b[0;36mget_90th_percentile_flux_loop\u001b[0;34m(lc_dict, lc_info)\u001b[0m\n\u001b[1;32m      8\u001b[0m     \u001b[0mlc_info\u001b[0m \u001b[0;34m=\u001b[0m \u001b[0mlc_info\u001b[0m\u001b[0;34m.\u001b[0m\u001b[0mreset_index\u001b[0m\u001b[0;34m(\u001b[0m\u001b[0;34m)\u001b[0m\u001b[0;34m\u001b[0m\u001b[0;34m\u001b[0m\u001b[0m\n\u001b[1;32m      9\u001b[0m     \u001b[0;32mfor\u001b[0m \u001b[0mindex\u001b[0m \u001b[0;32min\u001b[0m \u001b[0mrange\u001b[0m\u001b[0;34m(\u001b[0m\u001b[0;36m0\u001b[0m\u001b[0;34m,\u001b[0m \u001b[0mlen\u001b[0m\u001b[0;34m(\u001b[0m\u001b[0mlc_info\u001b[0m\u001b[0;34m)\u001b[0m\u001b[0;34m)\u001b[0m\u001b[0;34m:\u001b[0m\u001b[0;34m\u001b[0m\u001b[0;34m\u001b[0m\u001b[0m\n\u001b[0;32m---> 10\u001b[0;31m         \u001b[0mflux\u001b[0m \u001b[0;34m=\u001b[0m \u001b[0mget_90th_percentile_flux\u001b[0m\u001b[0;34m(\u001b[0m\u001b[0mlc_dict\u001b[0m\u001b[0;34m[\u001b[0m\u001b[0mindex\u001b[0m\u001b[0;34m]\u001b[0m\u001b[0;34m,\u001b[0m \u001b[0mlc_info\u001b[0m\u001b[0;34m.\u001b[0m\u001b[0mloc\u001b[0m\u001b[0;34m[\u001b[0m\u001b[0mindex\u001b[0m\u001b[0;34m]\u001b[0m\u001b[0;34m)\u001b[0m\u001b[0;34m\u001b[0m\u001b[0;34m\u001b[0m\u001b[0m\n\u001b[0m\u001b[1;32m     11\u001b[0m         \u001b[0;32mif\u001b[0m\u001b[0;34m(\u001b[0m\u001b[0mflux\u001b[0m \u001b[0;34m>\u001b[0m \u001b[0;36m1000\u001b[0m\u001b[0;34m)\u001b[0m\u001b[0;34m:\u001b[0m\u001b[0;34m\u001b[0m\u001b[0;34m\u001b[0m\u001b[0m\n\u001b[1;32m     12\u001b[0m             \u001b[0mprint\u001b[0m\u001b[0;34m(\u001b[0m\u001b[0;34m'For %s, 90th percentile flux %0.2f is over 1000 '\u001b[0m \u001b[0;34m%\u001b[0m \u001b[0;34m(\u001b[0m\u001b[0mlc_info\u001b[0m\u001b[0;34m.\u001b[0m\u001b[0mloc\u001b[0m\u001b[0;34m[\u001b[0m\u001b[0mindex\u001b[0m\u001b[0;34m,\u001b[0m\u001b[0;34m'tnsname'\u001b[0m\u001b[0;34m]\u001b[0m\u001b[0;34m,\u001b[0m \u001b[0mflux\u001b[0m\u001b[0;34m)\u001b[0m \u001b[0;34m+\u001b[0m \u001b[0;34mu'\\u2713'\u001b[0m\u001b[0;34m)\u001b[0m\u001b[0;34m\u001b[0m\u001b[0;34m\u001b[0m\u001b[0m\n",
      "\u001b[0;32m/var/folders/6w/hdrgkhvj5gs8m0p18llgfyhh0002wp/T/ipykernel_22380/473230428.py\u001b[0m in \u001b[0;36mget_90th_percentile_flux\u001b[0;34m(lc, info)\u001b[0m\n\u001b[1;32m      3\u001b[0m \u001b[0;32mdef\u001b[0m \u001b[0mget_90th_percentile_flux\u001b[0m\u001b[0;34m(\u001b[0m\u001b[0mlc\u001b[0m\u001b[0;34m,\u001b[0m \u001b[0minfo\u001b[0m\u001b[0;34m)\u001b[0m\u001b[0;34m:\u001b[0m\u001b[0;34m\u001b[0m\u001b[0;34m\u001b[0m\u001b[0m\n\u001b[1;32m      4\u001b[0m     \u001b[0mtarget\u001b[0m \u001b[0;34m=\u001b[0m \u001b[0mAandB\u001b[0m\u001b[0;34m(\u001b[0m\u001b[0mnp\u001b[0m\u001b[0;34m.\u001b[0m\u001b[0mwhere\u001b[0m\u001b[0;34m(\u001b[0m\u001b[0mlc\u001b[0m\u001b[0;34m.\u001b[0m\u001b[0mt\u001b[0m\u001b[0;34m[\u001b[0m\u001b[0;34m'MJD'\u001b[0m\u001b[0;34m]\u001b[0m\u001b[0;34m>\u001b[0m\u001b[0minfo\u001b[0m\u001b[0;34m[\u001b[0m\u001b[0;34m'mjdstart'\u001b[0m\u001b[0;34m]\u001b[0m\u001b[0;34m)\u001b[0m\u001b[0;34m[\u001b[0m\u001b[0;36m0\u001b[0m\u001b[0;34m]\u001b[0m\u001b[0;34m,\u001b[0m \u001b[0mnp\u001b[0m\u001b[0;34m.\u001b[0m\u001b[0mwhere\u001b[0m\u001b[0;34m(\u001b[0m\u001b[0mlc\u001b[0m\u001b[0;34m.\u001b[0m\u001b[0mt\u001b[0m\u001b[0;34m[\u001b[0m\u001b[0;34m'MJD'\u001b[0m\u001b[0;34m]\u001b[0m\u001b[0;34m<\u001b[0m\u001b[0minfo\u001b[0m\u001b[0;34m[\u001b[0m\u001b[0;34m'mjdstart'\u001b[0m\u001b[0;34m]\u001b[0m\u001b[0;34m+\u001b[0m\u001b[0;36m60\u001b[0m\u001b[0;34m)\u001b[0m\u001b[0;34m[\u001b[0m\u001b[0;36m0\u001b[0m\u001b[0;34m]\u001b[0m\u001b[0;34m)\u001b[0m\u001b[0;34m\u001b[0m\u001b[0;34m\u001b[0m\u001b[0m\n\u001b[0;32m----> 5\u001b[0;31m     \u001b[0;32mreturn\u001b[0m \u001b[0mnp\u001b[0m\u001b[0;34m.\u001b[0m\u001b[0mpercentile\u001b[0m\u001b[0;34m(\u001b[0m\u001b[0mlc\u001b[0m\u001b[0;34m.\u001b[0m\u001b[0mt\u001b[0m\u001b[0;34m.\u001b[0m\u001b[0mloc\u001b[0m\u001b[0;34m[\u001b[0m\u001b[0mtarget\u001b[0m\u001b[0;34m,\u001b[0m \u001b[0;34m'uJy'\u001b[0m\u001b[0;34m]\u001b[0m\u001b[0;34m,\u001b[0m \u001b[0;36m90\u001b[0m\u001b[0;34m)\u001b[0m\u001b[0;34m\u001b[0m\u001b[0;34m\u001b[0m\u001b[0m\n\u001b[0m\u001b[1;32m      6\u001b[0m \u001b[0;34m\u001b[0m\u001b[0m\n\u001b[1;32m      7\u001b[0m \u001b[0;32mdef\u001b[0m \u001b[0mget_90th_percentile_flux_loop\u001b[0m\u001b[0;34m(\u001b[0m\u001b[0mlc_dict\u001b[0m\u001b[0;34m,\u001b[0m \u001b[0mlc_info\u001b[0m\u001b[0;34m)\u001b[0m\u001b[0;34m:\u001b[0m\u001b[0;34m\u001b[0m\u001b[0;34m\u001b[0m\u001b[0m\n",
      "\u001b[0;32m<__array_function__ internals>\u001b[0m in \u001b[0;36mpercentile\u001b[0;34m(*args, **kwargs)\u001b[0m\n",
      "\u001b[0;32m~/opt/anaconda3/lib/python3.9/site-packages/numpy/lib/function_base.py\u001b[0m in \u001b[0;36mpercentile\u001b[0;34m(a, q, axis, out, overwrite_input, interpolation, keepdims)\u001b[0m\n\u001b[1;32m   3816\u001b[0m     \u001b[0;32mif\u001b[0m \u001b[0;32mnot\u001b[0m \u001b[0m_quantile_is_valid\u001b[0m\u001b[0;34m(\u001b[0m\u001b[0mq\u001b[0m\u001b[0;34m)\u001b[0m\u001b[0;34m:\u001b[0m\u001b[0;34m\u001b[0m\u001b[0;34m\u001b[0m\u001b[0m\n\u001b[1;32m   3817\u001b[0m         \u001b[0;32mraise\u001b[0m \u001b[0mValueError\u001b[0m\u001b[0;34m(\u001b[0m\u001b[0;34m\"Percentiles must be in the range [0, 100]\"\u001b[0m\u001b[0;34m)\u001b[0m\u001b[0;34m\u001b[0m\u001b[0;34m\u001b[0m\u001b[0m\n\u001b[0;32m-> 3818\u001b[0;31m     return _quantile_unchecked(\n\u001b[0m\u001b[1;32m   3819\u001b[0m         a, q, axis, out, overwrite_input, interpolation, keepdims)\n\u001b[1;32m   3820\u001b[0m \u001b[0;34m\u001b[0m\u001b[0m\n",
      "\u001b[0;32m~/opt/anaconda3/lib/python3.9/site-packages/numpy/lib/function_base.py\u001b[0m in \u001b[0;36m_quantile_unchecked\u001b[0;34m(a, q, axis, out, overwrite_input, interpolation, keepdims)\u001b[0m\n\u001b[1;32m   3935\u001b[0m                         interpolation='linear', keepdims=False):\n\u001b[1;32m   3936\u001b[0m     \u001b[0;34m\"\"\"Assumes that q is in [0, 1], and is an ndarray\"\"\"\u001b[0m\u001b[0;34m\u001b[0m\u001b[0;34m\u001b[0m\u001b[0m\n\u001b[0;32m-> 3937\u001b[0;31m     r, k = _ureduce(a, func=_quantile_ureduce_func, q=q, axis=axis, out=out,\n\u001b[0m\u001b[1;32m   3938\u001b[0m                     \u001b[0moverwrite_input\u001b[0m\u001b[0;34m=\u001b[0m\u001b[0moverwrite_input\u001b[0m\u001b[0;34m,\u001b[0m\u001b[0;34m\u001b[0m\u001b[0;34m\u001b[0m\u001b[0m\n\u001b[1;32m   3939\u001b[0m                     interpolation=interpolation)\n",
      "\u001b[0;32m~/opt/anaconda3/lib/python3.9/site-packages/numpy/lib/function_base.py\u001b[0m in \u001b[0;36m_ureduce\u001b[0;34m(a, func, **kwargs)\u001b[0m\n\u001b[1;32m   3513\u001b[0m         \u001b[0mkeepdim\u001b[0m \u001b[0;34m=\u001b[0m \u001b[0;34m(\u001b[0m\u001b[0;36m1\u001b[0m\u001b[0;34m,\u001b[0m\u001b[0;34m)\u001b[0m \u001b[0;34m*\u001b[0m \u001b[0ma\u001b[0m\u001b[0;34m.\u001b[0m\u001b[0mndim\u001b[0m\u001b[0;34m\u001b[0m\u001b[0;34m\u001b[0m\u001b[0m\n\u001b[1;32m   3514\u001b[0m \u001b[0;34m\u001b[0m\u001b[0m\n\u001b[0;32m-> 3515\u001b[0;31m     \u001b[0mr\u001b[0m \u001b[0;34m=\u001b[0m \u001b[0mfunc\u001b[0m\u001b[0;34m(\u001b[0m\u001b[0ma\u001b[0m\u001b[0;34m,\u001b[0m \u001b[0;34m**\u001b[0m\u001b[0mkwargs\u001b[0m\u001b[0;34m)\u001b[0m\u001b[0;34m\u001b[0m\u001b[0;34m\u001b[0m\u001b[0m\n\u001b[0m\u001b[1;32m   3516\u001b[0m     \u001b[0;32mreturn\u001b[0m \u001b[0mr\u001b[0m\u001b[0;34m,\u001b[0m \u001b[0mkeepdim\u001b[0m\u001b[0;34m\u001b[0m\u001b[0;34m\u001b[0m\u001b[0m\n\u001b[1;32m   3517\u001b[0m \u001b[0;34m\u001b[0m\u001b[0m\n",
      "\u001b[0;32m~/opt/anaconda3/lib/python3.9/site-packages/numpy/lib/function_base.py\u001b[0m in \u001b[0;36m_quantile_ureduce_func\u001b[0;34m(***failed resolving arguments***)\u001b[0m\n\u001b[1;32m   4059\u001b[0m         \u001b[0mweights_above\u001b[0m \u001b[0;34m=\u001b[0m \u001b[0mnot_scalar\u001b[0m\u001b[0;34m(\u001b[0m\u001b[0mindices\u001b[0m \u001b[0;34m-\u001b[0m \u001b[0mindices_below\u001b[0m\u001b[0;34m)\u001b[0m\u001b[0;34m.\u001b[0m\u001b[0mreshape\u001b[0m\u001b[0;34m(\u001b[0m\u001b[0mweights_shape\u001b[0m\u001b[0;34m)\u001b[0m\u001b[0;34m\u001b[0m\u001b[0;34m\u001b[0m\u001b[0m\n\u001b[1;32m   4060\u001b[0m \u001b[0;34m\u001b[0m\u001b[0m\n\u001b[0;32m-> 4061\u001b[0;31m         \u001b[0mx_below\u001b[0m \u001b[0;34m=\u001b[0m \u001b[0mtake\u001b[0m\u001b[0;34m(\u001b[0m\u001b[0map\u001b[0m\u001b[0;34m,\u001b[0m \u001b[0mindices_below\u001b[0m\u001b[0;34m,\u001b[0m \u001b[0maxis\u001b[0m\u001b[0;34m=\u001b[0m\u001b[0;36m0\u001b[0m\u001b[0;34m)\u001b[0m\u001b[0;34m\u001b[0m\u001b[0;34m\u001b[0m\u001b[0m\n\u001b[0m\u001b[1;32m   4062\u001b[0m         \u001b[0mx_above\u001b[0m \u001b[0;34m=\u001b[0m \u001b[0mtake\u001b[0m\u001b[0;34m(\u001b[0m\u001b[0map\u001b[0m\u001b[0;34m,\u001b[0m \u001b[0mindices_above\u001b[0m\u001b[0;34m,\u001b[0m \u001b[0maxis\u001b[0m\u001b[0;34m=\u001b[0m\u001b[0;36m0\u001b[0m\u001b[0;34m)\u001b[0m\u001b[0;34m\u001b[0m\u001b[0;34m\u001b[0m\u001b[0m\n\u001b[1;32m   4063\u001b[0m \u001b[0;34m\u001b[0m\u001b[0m\n",
      "\u001b[0;32m<__array_function__ internals>\u001b[0m in \u001b[0;36mtake\u001b[0;34m(*args, **kwargs)\u001b[0m\n",
      "\u001b[0;32m~/opt/anaconda3/lib/python3.9/site-packages/numpy/core/fromnumeric.py\u001b[0m in \u001b[0;36mtake\u001b[0;34m(a, indices, axis, out, mode)\u001b[0m\n\u001b[1;32m    189\u001b[0m            [5, 7]])\n\u001b[1;32m    190\u001b[0m     \"\"\"\n\u001b[0;32m--> 191\u001b[0;31m     \u001b[0;32mreturn\u001b[0m \u001b[0m_wrapfunc\u001b[0m\u001b[0;34m(\u001b[0m\u001b[0ma\u001b[0m\u001b[0;34m,\u001b[0m \u001b[0;34m'take'\u001b[0m\u001b[0;34m,\u001b[0m \u001b[0mindices\u001b[0m\u001b[0;34m,\u001b[0m \u001b[0maxis\u001b[0m\u001b[0;34m=\u001b[0m\u001b[0maxis\u001b[0m\u001b[0;34m,\u001b[0m \u001b[0mout\u001b[0m\u001b[0;34m=\u001b[0m\u001b[0mout\u001b[0m\u001b[0;34m,\u001b[0m \u001b[0mmode\u001b[0m\u001b[0;34m=\u001b[0m\u001b[0mmode\u001b[0m\u001b[0;34m)\u001b[0m\u001b[0;34m\u001b[0m\u001b[0;34m\u001b[0m\u001b[0m\n\u001b[0m\u001b[1;32m    192\u001b[0m \u001b[0;34m\u001b[0m\u001b[0m\n\u001b[1;32m    193\u001b[0m \u001b[0;34m\u001b[0m\u001b[0m\n",
      "\u001b[0;32m~/opt/anaconda3/lib/python3.9/site-packages/numpy/core/fromnumeric.py\u001b[0m in \u001b[0;36m_wrapfunc\u001b[0;34m(obj, method, *args, **kwds)\u001b[0m\n\u001b[1;32m     56\u001b[0m \u001b[0;34m\u001b[0m\u001b[0m\n\u001b[1;32m     57\u001b[0m     \u001b[0;32mtry\u001b[0m\u001b[0;34m:\u001b[0m\u001b[0;34m\u001b[0m\u001b[0;34m\u001b[0m\u001b[0m\n\u001b[0;32m---> 58\u001b[0;31m         \u001b[0;32mreturn\u001b[0m \u001b[0mbound\u001b[0m\u001b[0;34m(\u001b[0m\u001b[0;34m*\u001b[0m\u001b[0margs\u001b[0m\u001b[0;34m,\u001b[0m \u001b[0;34m**\u001b[0m\u001b[0mkwds\u001b[0m\u001b[0;34m)\u001b[0m\u001b[0;34m\u001b[0m\u001b[0;34m\u001b[0m\u001b[0m\n\u001b[0m\u001b[1;32m     59\u001b[0m     \u001b[0;32mexcept\u001b[0m \u001b[0mTypeError\u001b[0m\u001b[0;34m:\u001b[0m\u001b[0;34m\u001b[0m\u001b[0;34m\u001b[0m\u001b[0m\n\u001b[1;32m     60\u001b[0m         \u001b[0;31m# A TypeError occurs if the object does have such a method in its\u001b[0m\u001b[0;34m\u001b[0m\u001b[0;34m\u001b[0m\u001b[0m\n",
      "\u001b[0;31mIndexError\u001b[0m: cannot do a non-empty take from an empty axes."
     ]
    }
   ],
   "source": [
    "# Estimate rough brightness of each SN by getting 90th percentile flux from mjdstart to mjdstart+60 and determine if SN is a good candidate.\n",
    "\n",
    "def get_90th_percentile_flux(lc, info):\n",
    "    target = AandB(np.where(lc.t['MJD']>info['mjdstart'])[0], np.where(lc.t['MJD']<info['mjdstart']+60)[0])\n",
    "    return np.percentile(lc.t.loc[target, 'uJy'], 90)\n",
    "\n",
    "def get_90th_percentile_flux_loop(lc_dict, lc_info):\n",
    "    lc_info = lc_info.reset_index()\n",
    "    for index in range(0, len(lc_info)):\n",
    "        flux = get_90th_percentile_flux(lc_dict[index], lc_info.loc[index])\n",
    "        if(flux > 1000):\n",
    "            print('For %s, 90th percentile flux %0.2f is over 1000 ' % (lc_info.loc[index,'tnsname'], flux) + u'\\u2713')\n",
    "        else:\n",
    "            print('WARNING: For %s, 90th percentile flux %0.2f is under 1000' % (lc_info.loc[index,'tnsname'], flux))\n",
    "\n",
    "get_90th_percentile_flux_loop(lc_dict, lc_info.t)"
   ]
  },
  {
   "cell_type": "code",
   "execution_count": null,
   "metadata": {},
   "outputs": [],
   "source": []
  }
 ],
 "metadata": {
  "interpreter": {
   "hash": "aee8b7b246df8f9039afb4144a1f6fd8d2ca17a180786b69acc140d282b71a49"
  },
  "kernelspec": {
   "display_name": "Python 3 (ipykernel)",
   "language": "python",
   "name": "python3"
  },
  "language_info": {
   "codemirror_mode": {
    "name": "ipython",
    "version": 3
   },
   "file_extension": ".py",
   "mimetype": "text/x-python",
   "name": "python",
   "nbconvert_exporter": "python",
   "pygments_lexer": "ipython3",
   "version": "3.9.7"
  }
 },
 "nbformat": 4,
 "nbformat_minor": 2
}
